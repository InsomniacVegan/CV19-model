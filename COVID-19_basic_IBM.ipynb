{
 "cells": [
  {
   "cell_type": "markdown",
   "metadata": {},
   "source": [
    "# COVID-19 Individual Based Modelling "
   ]
  },
  {
   "cell_type": "markdown",
   "metadata": {},
   "source": [
    "Basic COVID-19 individual-based model where infection occurs with probability\n",
    "\n",
    "$P = e^{-I/{R_0}}$\n",
    "\n",
    "$I$ : intervention level\n",
    "\n",
    "$R_0$ : base infection level\n",
    "\n",
    "Infections last for 10 days with infections granting immunity from reinfection for 365 days.\n",
    "\n",
    "There is a base chance of 1% for a re-emergence of the disease through the random infecting of a member of the population if there are no present infections"
   ]
  },
  {
   "cell_type": "markdown",
   "metadata": {},
   "source": [
    "### Library imports"
   ]
  },
  {
   "cell_type": "code",
   "execution_count": 1,
   "metadata": {},
   "outputs": [],
   "source": [
    "import numpy as np\n",
    "import matplotlib.pyplot as plt"
   ]
  },
  {
   "cell_type": "markdown",
   "metadata": {},
   "source": [
    "### People"
   ]
  },
  {
   "cell_type": "code",
   "execution_count": 2,
   "metadata": {},
   "outputs": [],
   "source": [
    "class Person:\n",
    "    \"\"\"Base individual for COVID-19 model\"\"\"\n",
    "    \n",
    "    def __init__(self):\n",
    "        # Infection\n",
    "        self.infected   = False\n",
    "        self.t_infected = 0\n",
    "        \n",
    "        #Immunity \n",
    "        self.immune     = False\n",
    "        self.t_immune   = 0\n",
    "    \n",
    "    \n",
    "    def infect(self):\n",
    "        # Do  not reinfect\n",
    "        if self.infected or self.immune:\n",
    "            return\n",
    "        self.infected   = True\n",
    "        self.immune     = True\n",
    "    \n",
    "    def progress(self):\n",
    "        \n",
    "        # Progress infection if occured but reset after 10 days\n",
    "        if self.infected:\n",
    "            self.t_infected += 1\n",
    "            if self.t_infected >= 10:\n",
    "                self.t_infected = 0\n",
    "                self.infected = False\n",
    "                \n",
    "        # Progress immunity if occured but reset after 365 days           \n",
    "        if self.immune:\n",
    "            self.t_immune += 1\n",
    "            if self.t_immune >= 365:\n",
    "                self.t_immune = 0\n",
    "                self.immune   = False"
   ]
  },
  {
   "cell_type": "markdown",
   "metadata": {},
   "source": [
    "### Simulation class"
   ]
  },
  {
   "cell_type": "code",
   "execution_count": 3,
   "metadata": {},
   "outputs": [],
   "source": [
    "class Simulation:\n",
    "    \"\"\"Main simulation wrapper\"\"\"\n",
    "    \n",
    "    def __init__(self, pop_size = 100, seed_pop = 1):\n",
    "        \n",
    "         # Initialise numpy rng\n",
    "        np.random.seed()\n",
    "        \n",
    "        # Simulation variables\n",
    "        self.pop_size = pop_size\n",
    "        self.seed_pop = seed_pop\n",
    "        \n",
    "        # Create population\n",
    "        self.population = [Person() for i in range(self.pop_size)]\n",
    "        \n",
    "        # Infect seed population\n",
    "        infected_indices = np.random.randint(0,self.pop_size,self.seed_pop)\n",
    "        for i in infected_indices:\n",
    "            self.population[i].infect()\n",
    "        \n",
    "        # Track statistics\n",
    "        self.total_infections        = []\n",
    "        self.current_infection_level = []\n",
    "        self.immunity_level          = []\n",
    "    \n",
    "    \n",
    "    def run(self, time=100, daily_interactions=100, intervention_level=1, r_0=1):        \n",
    "        \n",
    "        # Simulation parameters\n",
    "        self.time = np.arange(0,time,1)\n",
    "        self.daily_interactions = daily_interactions\n",
    "        \n",
    "        # Precompute probability\n",
    "        infection_probability = np.exp(np.divide(np.multiply(-1.0, intervention_level),r_0))\n",
    "    \n",
    "        total_infection_counter = 0\n",
    "    \n",
    "        # Simulation loop\n",
    "        for day in self.time:\n",
    "                \n",
    "            for interaction in range(daily_interactions):\n",
    "\n",
    "                # Select two random people\n",
    "                person_1, person_2 = np.random.randint(0,self.pop_size,2)\n",
    "\n",
    "                # If both are immune then select a new interaction \n",
    "                # Infected individuals are automatically immune\n",
    "                if(self.population[person_1].immune and self.population[person_2].immune):\n",
    "                    continue\n",
    "\n",
    "                # If neither are infected then also generate a new interaction\n",
    "                if(not self.population[person_1].infected and not self.population[person_2].infected):\n",
    "                    continue\n",
    "\n",
    "                # If random number [0,1) falls under probability criteria then an infection occurs\n",
    "                if (np.random.random() < infection_probability):\n",
    "                        # Infection will only take place if not already infected/immune\n",
    "                        self.population[person_1].infect()\n",
    "                        self.population[person_2].infect()\n",
    "                        total_infection_counter += 1\n",
    "\n",
    "            # Update statistics\n",
    "            self.total_infections.append(total_infection_counter)\n",
    "            self.current_infection_level.append(len([person for person in self.population if person.infected]))\n",
    "            self.immunity_level.append(len([person for person in self.population if person.immune]))\n",
    "    \n",
    "            # Generate endemic infection\n",
    "            if (self.current_infection_level[-1]==0):\n",
    "                if np.random.random() < 0.01:\n",
    "                    self.population[np.random.randint(0,self.pop_size)].infect()\n",
    "    \n",
    "\n",
    "            # Progress each person's infection\n",
    "    \n",
    "            # N.B This could be made faster by only tracking infected\n",
    "            # or immune individuals but simplicity is the goal here\n",
    "            for person in self.population:\n",
    "                person.progress()\n",
    "                \n",
    "            "
   ]
  },
  {
   "cell_type": "markdown",
   "metadata": {},
   "source": [
    "### Simulation control\n",
    "\n",
    "Simulate a population of 100 for a total of 1000 days with decreasing intervention level"
   ]
  },
  {
   "cell_type": "code",
   "execution_count": 4,
   "metadata": {},
   "outputs": [],
   "source": [
    "sim = Simulation(pop_size = 100, seed_pop = 1)\n",
    "sim.run(time=90, daily_interactions=100,  intervention_level=7, r_0=2.5)\n",
    "sim.run(time=90, daily_interactions=100,  intervention_level=6.75, r_0=2.5)\n",
    "sim.run(time=90, daily_interactions=100,  intervention_level=6.5, r_0=2.5)\n",
    "sim.run(time=90, daily_interactions=100,  intervention_level=6.25, r_0=2.5)\n",
    "sim.run(time=730, daily_interactions=100, intervention_level=5, r_0=2.5)"
   ]
  },
  {
   "cell_type": "markdown",
   "metadata": {},
   "source": [
    "### Plotting\n",
    "\n",
    "Show current infection and immunity levels with 10% critical care facility box shown"
   ]
  },
  {
   "cell_type": "code",
   "execution_count": 5,
   "metadata": {},
   "outputs": [
    {
     "data": {
      "image/png": "[encoded data removed]",
      "text/plain": [
       "<Figure size 432x288 with 1 Axes>"
      ]
     },
     "metadata": {
      "needs_background": "light"
     },
     "output_type": "display_data"
    }
   ],
   "source": [
    "import matplotlib.patches as patches\n",
    "\n",
    "flat_red   = '#ea4335'\n",
    "flat_blue  = '#4285f4'\n",
    "flat_green = '#33a853'\n",
    "\n",
    "fig = plt.figure()\n",
    "ax = plt.axes(xlim=(-1, 1000), ylim=(-1,101))\n",
    "plt.xlabel('Time')\n",
    "plt.ylabel('% of Population')\n",
    "\n",
    "\n",
    "\n",
    "ax.plot(np.multiply(100, np.divide(sim.current_infection_level, sim.pop_size)), color=flat_blue, linestyle='-', lw=1.5, label='Infection level')\n",
    "ax.plot(np.multiply(100, np.divide(sim.immunity_level, sim.pop_size)), color=flat_green, linestyle='--', lw=1.5, label='Immunity level')\n",
    "\n",
    "rect = patches.Rectangle((0,-1),1000,11,linewidth=1.5,edgecolor=flat_red,facecolor=flat_red,alpha=0.25)\n",
    "#ax.add_patch(rect)\n",
    "\n",
    "#ax.axes.xaxis.set_ticklabels([])\n",
    "plt.legend(title='', loc='upper right', bbox_to_anchor=(1.4, 0.18), edgecolor='black', fancybox=False)\n",
    "plt.show()"
   ]
  }
 ],
 "metadata": {
  "kernelspec": {
   "display_name": "Python 3",
   "language": "python",
   "name": "python3"
  },
  "language_info": {
   "codemirror_mode": {
    "name": "ipython",
    "version": 3
   },
   "file_extension": ".py",
   "mimetype": "text/x-python",
   "name": "python",
   "nbconvert_exporter": "python",
   "pygments_lexer": "ipython3",
   "version": "3.7.6"
  }
 },
 "nbformat": 4,
 "nbformat_minor": 4
}
